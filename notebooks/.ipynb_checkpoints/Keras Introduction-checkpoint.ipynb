{
 "cells": [
  {
   "cell_type": "markdown",
   "metadata": {},
   "source": [
    "## An Introduction to Keras\n",
    "In this notebook, I will provide a brief introduction to [Keras](https://keras.io/), a high-level neural networks python library; it is a wrapper ontop of either **Theano** or **Tensorflow**. \n",
    "\n",
    "In the first part, I will implement the simple perceptron model from the first homework. Then I will try the 'hello world' of neural net applications: hand-writing recognition from the [MNIST database](http://yann.lecun.com/exdb/mnist/). "
   ]
  },
  {
   "cell_type": "markdown",
   "metadata": {},
   "source": [
    "### MNIST Database\n",
    "The MNIST database of handwritten digits. It consists of a training set of **60,000 examples**, and a test set of **10,000 examples**. It is a subset of a larger set available from NIST. The digits have been size-normalized and centered in a fixed-size image.\n",
    "\n",
    "It is a good database for people who want to try learning techniques and pattern recognition methods on real-world data while spending minimal efforts on preprocessing and formatting.\n",
    "\n",
    "*From [Yann Lecun's Website](http://yann.lecun.com/exdb/mnist/)*"
   ]
  },
  {
   "cell_type": "markdown",
   "metadata": {},
   "source": [
    "First, let's import the necessary basic python libraries:"
   ]
  },
  {
   "cell_type": "code",
   "execution_count": 1,
   "metadata": {},
   "outputs": [
    {
     "ename": "ImportError",
     "evalue": "No module named seaborn",
     "output_type": "error",
     "traceback": [
      "\u001b[0;31m---------------------------------------------------------------------------\u001b[0m",
      "\u001b[0;31mImportError\u001b[0m                               Traceback (most recent call last)",
      "\u001b[0;32m<ipython-input-1-0bc9ca8f540a>\u001b[0m in \u001b[0;36m<module>\u001b[0;34m()\u001b[0m\n\u001b[1;32m      4\u001b[0m \u001b[0;32mimport\u001b[0m \u001b[0mnumpy\u001b[0m \u001b[0;32mas\u001b[0m \u001b[0mnp\u001b[0m\u001b[0;34m\u001b[0m\u001b[0m\n\u001b[1;32m      5\u001b[0m \u001b[0;32mimport\u001b[0m \u001b[0mmatplotlib\u001b[0m\u001b[0;34m.\u001b[0m\u001b[0mpyplot\u001b[0m \u001b[0;32mas\u001b[0m \u001b[0mplt\u001b[0m\u001b[0;34m\u001b[0m\u001b[0m\n\u001b[0;32m----> 6\u001b[0;31m \u001b[0;32mimport\u001b[0m \u001b[0mseaborn\u001b[0m \u001b[0;32mas\u001b[0m \u001b[0msns\u001b[0m\u001b[0;34m\u001b[0m\u001b[0m\n\u001b[0m\u001b[1;32m      7\u001b[0m \u001b[0;34m\u001b[0m\u001b[0m\n\u001b[1;32m      8\u001b[0m \u001b[0msns\u001b[0m\u001b[0;34m.\u001b[0m\u001b[0mset\u001b[0m\u001b[0;34m(\u001b[0m\u001b[0mstyle\u001b[0m\u001b[0;34m=\u001b[0m\u001b[0;34m'ticks'\u001b[0m\u001b[0;34m)\u001b[0m\u001b[0;34m\u001b[0m\u001b[0m\n",
      "\u001b[0;31mImportError\u001b[0m: No module named seaborn"
     ]
    }
   ],
   "source": [
    "%matplotlib inline\n",
    "\n",
    "# Standard Libraries\n",
    "import numpy as np\n",
    "import matplotlib.pyplot as plt\n",
    "import seaborn as sns\n",
    "\n",
    "sns.set(style='ticks')"
   ]
  },
  {
   "cell_type": "markdown",
   "metadata": {},
   "source": [
    "Next, we let's load the **MNIST dataset**. Fortunately for us, this is already available in the **Keras** module (as well as many other common datasets). So we will import from **Keras** as follows:"
   ]
  },
  {
   "cell_type": "code",
   "execution_count": 2,
   "metadata": {},
   "outputs": [
    {
     "name": "stderr",
     "output_type": "stream",
     "text": [
      "Using TensorFlow backend.\n"
     ]
    },
    {
     "name": "stdout",
     "output_type": "stream",
     "text": [
      "Downloading data from https://s3.amazonaws.com/img-datasets/mnist.npz\n",
      "11345920/11490434 [============================>.] - ETA: 0s"
     ]
    },
    {
     "data": {
      "image/png": "[encoded data removed]",
      "text/plain": [
       "<matplotlib.figure.Figure at 0x7f9690526350>"
      ]
     },
     "metadata": {},
     "output_type": "display_data"
    }
   ],
   "source": [
    "# Load Dataset from Keras Libraries\n",
    "from keras.datasets import mnist\n",
    "from keras.utils import np_utils\n",
    "\n",
    "(X_train, y_train), (X_test, y_test) = mnist.load_data()\n",
    "nb_class = 10\n",
    "\n",
    "# Visualize Some Examples\n",
    "idx = np.random.choice(X_train.shape[0],6,replace=False)\n",
    "for i,ix in enumerate(idx):\n",
    "    plt.subplot(231+i)\n",
    "    plt.title('Label is {0}'.format(y_train[ix]))\n",
    "    plt.imshow(X_train[ix], cmap='gray')\n",
    "    plt.axis('off')\n",
    "\n",
    "plt.tight_layout()\n",
    "\n",
    "# Reshape X data from 2D to 1D (28x28 to 784)\n",
    "X_train = X_train.reshape(60000,784).astype('float32')\n",
    "X_test  = X_test.reshape(10000,784).astype('float32')\n",
    "\n",
    "# Convert Y labels to Categorical One-Hot Format\n",
    "y_train = np_utils.to_categorical(y_train, nb_class)\n",
    "y_test = np_utils.to_categorical(y_test, nb_class)"
   ]
  },
  {
   "cell_type": "markdown",
   "metadata": {},
   "source": [
    "### Neural Network Model\n",
    "Now, we are goint to create our neural network model using Keras' high-level library. The big advantage of Keras is that it abstracts away the low level code of the basic elements of neural networks such as hidden units, layers, activations, optimizers, etc. In other words, you just call Keras functions to create these things for you, without hand coding the details yourself. Underneath it all, Keras is using **Tensorflow** or **Theano**, just like you would yourself.\n",
    "\n",
    "To demonstrate this, let's first decide on a network architecture for our MNIST dataset. Let's use the same architecture as in the `multilayer_perceptron.py` example we used in class to test our **Tensorflow** installation. Here is the network architecture:\n",
    "\n",
    "#### Network Architecture\n",
    "![Network Architecture](NetArch1.png)\n",
    "\n",
    "Now let's proceed to build this in Keras."
   ]
  },
  {
   "cell_type": "code",
   "execution_count": 4,
   "metadata": {},
   "outputs": [
    {
     "name": "stderr",
     "output_type": "stream",
     "text": [
      "Using TensorFlow backend.\n"
     ]
    }
   ],
   "source": [
    "# Import Keras Libraries\n",
    "from keras.models import Sequential\n",
    "from keras.layers import Dense, Activation\n",
    "\n",
    "\n",
    "# Define Model Parameters\n",
    "nb_feat   = 28    # no. of features/columns of input\n",
    "L1_units  = 256   # no. of nodes in Layer 1\n",
    "L2_units  = 100   # no. of nodes in Layer 2\n",
    "L3_units  = 50   # no. of nodes in Layer 2\n",
    "nb_class  = 10    # no. of output classes\n",
    "\n",
    "# Neural Network Model\n",
    "model = Sequential()                             # Sequential network model description\n",
    "model.add(Dense(L1_units,input_shape=(784,)))    # Add 1st Dense Layer\n",
    "model.add(Activation(\"relu\"))                    # Add activation function\n",
    "\n",
    "model.add(Dense(L2_units))                       # Add 2nd Dense Layer\n",
    "model.add(Activation(\"relu\"))                    # Add activation function\n",
    "\n",
    "model.add(Dense(L3_units))                       # Add 3nd Dense Layer\n",
    "model.add(Activation(\"relu\"))                    # Add activation function\n",
    "\n",
    "model.add(Dense(nb_class))                       # Add 3rd Dense Layer, also the classification layer\n",
    "model.add(Activation('softmax'))                 # Add sigmoid classification "
   ]
  },
  {
   "cell_type": "markdown",
   "metadata": {},
   "source": [
    "Once you've described the model in a sequential model, you then proceed to compile the model. The model needs to be compiled because the actual Theano/Tensorflow backend uses C/C++ internally for faster implementations and runs. \n",
    "\n",
    "Also, while compiling, we defining the loss function (optimization criterion) and the kind of optimizer to use. Here I use the popular **RMSprop**, an adaptive variant of gradient descent."
   ]
  },
  {
   "cell_type": "code",
   "execution_count": 5,
   "metadata": {
    "collapsed": true
   },
   "outputs": [],
   "source": [
    "model.compile(loss='categorical_crossentropy',optimizer='rmsprop', metrics=['accuracy'])"
   ]
  },
  {
   "cell_type": "markdown",
   "metadata": {},
   "source": [
    "Finally, I proceed to train the model with a simple one line command:"
   ]
  },
  {
   "cell_type": "code",
   "execution_count": 6,
   "metadata": {},
   "outputs": [
    {
     "name": "stdout",
     "output_type": "stream",
     "text": [
      "Train on 60000 samples, validate on 10000 samples\n",
      "Epoch 1/30\n",
      "12s - loss: 9.8638 - acc: 0.3864 - val_loss: 8.7378 - val_acc: 0.4571\n",
      "Epoch 2/30\n",
      "12s - loss: 8.7325 - acc: 0.4574 - val_loss: 8.5636 - val_acc: 0.4682\n",
      "Epoch 3/30\n",
      "12s - loss: 8.5586 - acc: 0.4686 - val_loss: 8.5682 - val_acc: 0.4681\n",
      "Epoch 4/30\n",
      "12s - loss: 8.5785 - acc: 0.4674 - val_loss: 8.4555 - val_acc: 0.4751\n",
      "Epoch 5/30\n",
      "15s - loss: 8.5295 - acc: 0.4704 - val_loss: 8.4599 - val_acc: 0.4746\n",
      "Epoch 6/30\n",
      "15s - loss: 8.4660 - acc: 0.4744 - val_loss: 8.7201 - val_acc: 0.4586\n",
      "Epoch 7/30\n",
      "12s - loss: 8.4377 - acc: 0.4763 - val_loss: 8.4889 - val_acc: 0.4730\n",
      "Epoch 8/30\n",
      "13s - loss: 8.4451 - acc: 0.4758 - val_loss: 8.4055 - val_acc: 0.4783\n",
      "Epoch 9/30\n",
      "12s - loss: 8.4453 - acc: 0.4759 - val_loss: 8.4317 - val_acc: 0.4767\n",
      "Epoch 10/30\n",
      "12s - loss: 8.4305 - acc: 0.4768 - val_loss: 8.4400 - val_acc: 0.4761\n",
      "Epoch 11/30\n",
      "12s - loss: 8.4669 - acc: 0.4745 - val_loss: 8.5217 - val_acc: 0.4712\n",
      "Epoch 12/30\n",
      "18s - loss: 8.4461 - acc: 0.4758 - val_loss: 8.2971 - val_acc: 0.4850\n",
      "Epoch 13/30\n",
      "16s - loss: 8.3920 - acc: 0.4792 - val_loss: 8.4626 - val_acc: 0.4747\n",
      "Epoch 14/30\n",
      "13s - loss: 8.4139 - acc: 0.4778 - val_loss: 8.3936 - val_acc: 0.4790\n",
      "Epoch 15/30\n",
      "12s - loss: 8.3682 - acc: 0.4807 - val_loss: 8.2862 - val_acc: 0.4857\n",
      "Epoch 16/30\n",
      "12s - loss: 8.3724 - acc: 0.4804 - val_loss: 8.4008 - val_acc: 0.4788\n",
      "Epoch 17/30\n",
      "12s - loss: 8.4060 - acc: 0.4783 - val_loss: 8.3652 - val_acc: 0.4809\n",
      "Epoch 18/30\n",
      "12s - loss: 8.4168 - acc: 0.4776 - val_loss: 8.3508 - val_acc: 0.4818\n",
      "Epoch 19/30\n",
      "20s - loss: 8.4517 - acc: 0.4754 - val_loss: 8.3273 - val_acc: 0.4832\n",
      "Epoch 20/30\n",
      "17s - loss: 8.3952 - acc: 0.4790 - val_loss: 8.3369 - val_acc: 0.4826\n",
      "Epoch 21/30\n",
      "12s - loss: 8.4348 - acc: 0.4765 - val_loss: 8.6881 - val_acc: 0.4607\n",
      "Epoch 22/30\n",
      "12s - loss: 8.3758 - acc: 0.4802 - val_loss: 8.2882 - val_acc: 0.4856\n",
      "Epoch 23/30\n",
      "14s - loss: 8.3285 - acc: 0.4832 - val_loss: 8.4475 - val_acc: 0.4757\n",
      "Epoch 24/30\n",
      "12s - loss: 8.3776 - acc: 0.4801 - val_loss: 8.2869 - val_acc: 0.4858\n",
      "Epoch 25/30\n",
      "14s - loss: 8.3550 - acc: 0.4815 - val_loss: 8.2612 - val_acc: 0.4873\n",
      "Epoch 26/30\n",
      "12s - loss: 8.3403 - acc: 0.4824 - val_loss: 8.3634 - val_acc: 0.4809\n",
      "Epoch 27/30\n",
      "14s - loss: 8.3340 - acc: 0.4828 - val_loss: 8.2622 - val_acc: 0.4873\n",
      "Epoch 28/30\n",
      "11s - loss: 8.3116 - acc: 0.4842 - val_loss: 8.3776 - val_acc: 0.4800\n",
      "Epoch 29/30\n",
      "11s - loss: 8.3296 - acc: 0.4831 - val_loss: 8.3114 - val_acc: 0.4842\n",
      "Epoch 30/30\n",
      "11s - loss: 8.3569 - acc: 0.4814 - val_loss: 8.2607 - val_acc: 0.4874\n"
     ]
    }
   ],
   "source": [
    "log = model.fit(X_train, y_train,nb_epoch=30, batch_size=32, verbose=2,validation_data=(X_test, y_test))"
   ]
  },
  {
   "cell_type": "code",
   "execution_count": null,
   "metadata": {},
   "outputs": [],
   "source": [
    "# Scikit-Learn Machine Learning Utilities\n",
    "from sklearn.metrics import confusion_matrix\n",
    "\n",
    "## Final Accuracy\n",
    "score = model.evaluate(X_test, y_test)\n",
    "print'Model Accuracy: {}%'.format(score[1]*100)\n",
    "print ''\n",
    "print ''\n",
    "\n",
    "y_pred = model.predict_classes(X_test)\n",
    "cm = confusion_matrix(np.argmax(y_test,axis=1),y_pred)  ## Confusion matrix\n",
    "plot_confusion_matrix(cm, ['0','1','2','3','4','5','6','7','8','9'],normalize=True)"
   ]
  },
  {
   "cell_type": "code",
   "execution_count": null,
   "metadata": {},
   "outputs": [],
   "source": [
    "# summarize history for accuracy\n",
    "plt.plot(log.history['acc'])\n",
    "plt.plot(log.history['val_acc'])\n",
    "plt.title('Model Accuracy'), plt.ylabel('Accuracy'), plt.xlabel('Epoch')\n",
    "plt.legend(['Train', 'Test'], loc='upper left')"
   ]
  },
  {
   "cell_type": "code",
   "execution_count": null,
   "metadata": {},
   "outputs": [],
   "source": [
    "# summarize history for loss\n",
    "plt.plot(log.history['loss'])\n",
    "plt.plot(log.history['val_loss'])\n",
    "plt.title('Model Loss'), plt.ylabel('Loss'), plt.xlabel('Epoch')\n",
    "plt.legend(['Train', 'Test'], loc='upper left')"
   ]
  },
  {
   "cell_type": "code",
   "execution_count": 2,
   "metadata": {
    "collapsed": true
   },
   "outputs": [],
   "source": [
    "import itertools\n",
    "def plot_confusion_matrix(cm, classes,\n",
    "                          normalize=False,\n",
    "                          title='Confusion matrix',\n",
    "                          cmap=plt.cm.Blues):\n",
    "    \"\"\"\n",
    "    This function prints and plots the confusion matrix.\n",
    "    Normalization can be applied by setting `normalize=True`.\n",
    "    \"\"\"\n",
    "    plt.imshow(cm, interpolation='nearest', cmap=cmap)\n",
    "    plt.title(title)\n",
    "    plt.colorbar()\n",
    "    tick_marks = np.arange(len(classes))\n",
    "    plt.xticks(tick_marks, classes, rotation=45)\n",
    "    plt.yticks(tick_marks, classes)\n",
    "\n",
    "    if normalize:\n",
    "        cm = cm.astype('float') / cm.sum(axis=1)[:, np.newaxis]\n",
    "        print(\"Normalized confusion matrix\")\n",
    "    else:\n",
    "        print('Confusion matrix, without normalization')\n",
    "\n",
    "    thresh = cm.max() / 2.\n",
    "\n",
    "    plt.tight_layout()\n",
    "    plt.ylabel('True label')\n",
    "    plt.xlabel('Predicted label')"
   ]
  },
  {
   "cell_type": "code",
   "execution_count": null,
   "metadata": {
    "collapsed": true
   },
   "outputs": [],
   "source": []
  }
 ],
 "metadata": {
  "kernelspec": {
   "display_name": "Python 2",
   "language": "python",
   "name": "python2"
  },
  "language_info": {
   "codemirror_mode": {
    "name": "ipython",
    "version": 2
   },
   "file_extension": ".py",
   "mimetype": "text/x-python",
   "name": "python",
   "nbconvert_exporter": "python",
   "pygments_lexer": "ipython2",
   "version": "2.7.13"
  }
 },
 "nbformat": 4,
 "nbformat_minor": 1
}
